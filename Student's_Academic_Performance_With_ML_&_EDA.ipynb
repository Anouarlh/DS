{
  "metadata": {
    "kernelspec": {
      "language": "python",
      "display_name": "Python 3",
      "name": "python3"
    },
    "language_info": {
      "pygments_lexer": "ipython3",
      "nbconvert_exporter": "python",
      "version": "3.6.4",
      "file_extension": ".py",
      "codemirror_mode": {
        "name": "ipython",
        "version": 3
      },
      "name": "python",
      "mimetype": "text/x-python"
    },
    "kaggle": {
      "accelerator": "gpu",
      "dataSources": [
        {
          "sourceId": 920,
          "sourceType": "datasetVersion",
          "datasetId": 436
        }
      ],
      "dockerImageVersionId": 438,
      "isInternetEnabled": false,
      "language": "python",
      "sourceType": "notebook",
      "isGpuEnabled": true
    },
    "colab": {
      "name": "Student's Academic Performance With ML & EDA",
      "provenance": []
    }
  },
  "nbformat_minor": 0,
  "nbformat": 4,
  "cells": [
    {
      "source": [
        "# IMPORTANT: RUN THIS CELL IN ORDER TO IMPORT YOUR KAGGLE DATA SOURCES,\n",
        "# THEN FEEL FREE TO DELETE THIS CELL.\n",
        "# NOTE: THIS NOTEBOOK ENVIRONMENT DIFFERS FROM KAGGLE'S PYTHON\n",
        "# ENVIRONMENT SO THERE MAY BE MISSING LIBRARIES USED BY YOUR\n",
        "# NOTEBOOK.\n",
        "import kagglehub\n",
        "aljarah_xapi_edu_data_path = kagglehub.dataset_download('aljarah/xAPI-Edu-Data')\n",
        "\n",
        "print('Data source import complete.')\n"
      ],
      "metadata": {
        "id": "ICZG3hRap2YX"
      },
      "cell_type": "code",
      "outputs": [],
      "execution_count": null
    },
    {
      "cell_type": "markdown",
      "source": [
        "# Predicting Student's Academic Performance For University"
      ],
      "metadata": {
        "_uuid": "8bf6f7cc90d2c5cb652530142d1db393b9db20b0",
        "id": "ovgRLr_6p2Z2"
      }
    },
    {
      "cell_type": "markdown",
      "source": [
        "# Introduction:\n",
        "In this small project we are trying to do some new thing.We are try to do make a new mode for this project.We also try to use this project for our real life's problems or project.Very quickly we will try to finish this project and represnt some new thing by this project.Have fun and we will  open to constructive criticisms that will make this project more effective and interesting.\n",
        " ![Imgur](https://i.imgur.com/lsbPelO.jpg)"
      ],
      "metadata": {
        "_uuid": "7f453240ec2e9c0221fad4fc03f422490b10cbac",
        "id": "2CyJlFm_p2aD"
      }
    },
    {
      "cell_type": "markdown",
      "source": [
        "# Outline of the Project:\n",
        "<p> <b>1. Exploratory Data Analysis(EDA): </p>\n",
        "<a class=\"link\" href=\"https://www.kaggle.com/harunshimanto\" target=\"_blank\">\n",
        "                                 Harun-Ur-Rashid\n",
        "                                    </a>\n",
        "<p><b>2. Machine Learning Algorithm  applying:</p>\n",
        "<a class=\"link\" href=\"https://www.kaggle.com/harunshimanto\" target=\"_blank\">\n",
        "                                     Harun-Ur-Rashid\n",
        "                \n",
        "<p><b>3.Deep Learning Algorithm applying:</p>\n",
        "                                    "
      ],
      "metadata": {
        "_uuid": "445b5f9c1514dcf3b2042f8c63f1a6f1f3652ce4",
        "id": "FL7PTr2dp2aM"
      }
    },
    {
      "cell_type": "markdown",
      "source": [
        "# 1. Exploratory Data Analysis(EDA): <a class=\"link\" href=\"https://www.kaggle.com/harunshimanto\" target=\"_blank\">Harun-Ur-Rashid</a>\n",
        "<p> <b> 1. What is EDA?\n",
        "\n",
        "<b>  <p>In statistics, exploratory data analysis (EDA) is an approach to analyzing data sets to summarize their main characteristics, often with visual methods. A statistical model can be used or not, but primarily EDA is for seeing what the data can tell us beyond the formal modeling or hypothesis testing task.\n",
        "\n",
        "*  <p>You can say that EDA is statisticians way of story telling where you explore data, find patterns and tells insights. Often you have some questions in hand you try to validate those questions by performing EDA.\n",
        "[Here is my  article on EDA.](https://hackernoon.com/overview-of-exploratory-data-analysis-with-python-6213e105b00b)"
      ],
      "metadata": {
        "_uuid": "8f2839f25d086af736a60e9eeb907d3b93b6e0e5",
        "_cell_guid": "b1076dfc-b9ad-4769-8c92-a6c4dae69d19",
        "trusted": true,
        "collapsed": true,
        "jupyter": {
          "outputs_hidden": true
        },
        "id": "5YXsNoI9p2aQ"
      }
    },
    {
      "cell_type": "markdown",
      "source": [
        "# Load Import necessary dependencies"
      ],
      "metadata": {
        "_cell_guid": "79c7e3d0-c299-4dcb-8224-4455121ee9b0",
        "collapsed": true,
        "_uuid": "d629ff2d2480ee46fbb7e2d37f6b5fab8052498a",
        "trusted": false,
        "jupyter": {
          "outputs_hidden": true
        },
        "id": "zlPuS5chp2aV"
      }
    },
    {
      "cell_type": "code",
      "source": [
        "import numpy as np\n",
        "import pandas as pd\n",
        "from subprocess import check_output\n",
        "print(check_output([\"ls\", \"../input\"]).decode(\"utf8\"))\n",
        "import matplotlib.pyplot as plt\n",
        "import seaborn as sns\n",
        "sns.set_style('whitegrid')\n",
        "%matplotlib inline\n",
        "from plotly import tools\n",
        "import plotly.plotly as py\n",
        "from plotly.offline import init_notebook_mode, iplot\n",
        "init_notebook_mode(connected=True)\n",
        "import plotly.graph_objs as go\n",
        "import plotly.figure_factory as ff\n",
        "from sklearn.preprocessing import LabelEncoder\n",
        "from sklearn.model_selection import train_test_split\n",
        "from sklearn.linear_model import LogisticRegression\n",
        "from sklearn.ensemble import RandomForestClassifier\n",
        "from sklearn.tree import DecisionTreeClassifier\n",
        "from sklearn.metrics import confusion_matrix, classification_report, accuracy_score\n",
        "from sklearn.model_selection import cross_val_score\n",
        "from xgboost import XGBClassifier, plot_importance"
      ],
      "metadata": {
        "trusted": true,
        "_uuid": "a494226bcf512194de39f626bf0a2dda21b72e86",
        "execution": {
          "iopub.status.busy": "2025-10-29T10:53:56.640887Z",
          "iopub.execute_input": "2025-10-29T10:53:56.64111Z",
          "iopub.status.idle": "2025-10-29T10:53:58.197854Z",
          "shell.execute_reply.started": "2025-10-29T10:53:56.641054Z",
          "shell.execute_reply": "2025-10-29T10:53:58.196966Z"
        },
        "id": "b2uqqHL3p2aZ"
      },
      "outputs": [],
      "execution_count": null
    },
    {
      "cell_type": "markdown",
      "source": [
        "# Load and Read DataSets"
      ],
      "metadata": {
        "_uuid": "49cacb2dddacd2a8e08412e81691278f25c4aa76",
        "id": "96yl8j4tp2ae"
      }
    },
    {
      "cell_type": "code",
      "source": [
        "data = pd.read_csv('../input/xAPI-Edu-Data.csv')\n",
        "# Any results you write to the current directory are saved as output.\n",
        "data.head()"
      ],
      "metadata": {
        "trusted": true,
        "_uuid": "7491aac1cf80b87d13c72868617df204b8fb379f",
        "collapsed": true,
        "jupyter": {
          "outputs_hidden": true
        },
        "id": "3UJUx0yCp2ai"
      },
      "outputs": [],
      "execution_count": null
    },
    {
      "cell_type": "markdown",
      "source": [
        "<b><p>Attributes</p></b>\n",
        "1 Gender - student's gender (nominal: 'Male' or 'Female’)\n",
        "\n",
        "2 Nationality- student's nationality (nominal:’ Kuwait’,’ Lebanon’,’ Egypt’,’ SaudiArabia’,’ USA’,’ Jordan’,’ Venezuela’,’ Iran’,’ Tunis’,’ Morocco’,’ Syria’,’ Palestine’,’ Iraq’,’ Lybia’)\n",
        "\n",
        "3 Place of birth- student's Place of birth (nominal:’ Kuwait’,’ Lebanon’,’ Egypt’,’ SaudiArabia’,’ USA’,’ Jordan’,’ Venezuela’,’ Iran’,’ Tunis’,’ Morocco’,’ Syria’,’ Palestine’,’ Iraq’,’ Lybia’)\n",
        "\n",
        "4 Educational Stages- educational level student belongs (nominal: ‘lowerlevel’,’MiddleSchool’,’HighSchool’)\n",
        "\n",
        "5 Grade Levels- grade student belongs (nominal: ‘G-01’, ‘G-02’, ‘G-03’, ‘G-04’, ‘G-05’, ‘G-06’, ‘G-07’, ‘G-08’, ‘G-09’, ‘G-10’, ‘G-11’, ‘G-12 ‘)\n",
        "\n",
        "6 Section ID- classroom student belongs (nominal:’A’,’B’,’C’)\n",
        "\n",
        "7 Topic- course topic (nominal:’ English’,’ Spanish’, ‘French’,’ Arabic’,’ IT’,’ Math’,’ Chemistry’, ‘Biology’, ‘Science’,’ History’,’ Quran’,’ Geology’)\n",
        "\n",
        "8 Semester- school year semester (nominal:’ First’,’ Second’)\n",
        "\n",
        "9 Parent responsible for student (nominal:’mom’,’father’)\n",
        "\n",
        "10 Raised hand- how many times the student raises his/her hand on classroom (numeric:0-100)\n",
        "\n",
        "11- Visited resources- how many times the student visits a course content(numeric:0-100)\n",
        "\n",
        "12 Viewing announcements-how many times the student checks the new announcements(numeric:0-100)\n",
        "\n",
        "13 Discussion groups- how many times the student participate on discussion groups (numeric:0-100)\n",
        "\n",
        "14 Parent Answering Survey- parent answered the surveys which are provided from school or not (nominal:’Yes’,’No’)\n",
        "\n",
        "15 Parent School Satisfaction- the Degree of parent satisfaction from school(nominal:’Yes’,’No’)\n",
        "\n",
        "16 Student Absence Days-the number of absence days for each student (nominal: above-7, under-7)"
      ],
      "metadata": {
        "_uuid": "d9f920d3c54e0837e357b6f8cf05725bcb53e306",
        "id": "Azx9HrZDp2ap"
      }
    },
    {
      "cell_type": "markdown",
      "source": [
        "# DataSets Describe"
      ],
      "metadata": {
        "_uuid": "a6adfa60ae812ca13b5071f4924f30ebd9014a08",
        "id": "6H-NAPxwp2au"
      }
    },
    {
      "cell_type": "code",
      "source": [
        "data.describe()"
      ],
      "metadata": {
        "trusted": true,
        "_uuid": "a132bea1b8c6c6186c21a2d113b5cf1a8b040a0f",
        "collapsed": true,
        "jupyter": {
          "outputs_hidden": true
        },
        "id": "_5DwXguup2av"
      },
      "outputs": [],
      "execution_count": null
    },
    {
      "cell_type": "markdown",
      "source": [
        "# Check DataSets Shape"
      ],
      "metadata": {
        "_uuid": "87a1b9fa78796ea213e89e33585bb46867fc095d",
        "id": "BGwjVD8Pp2ax"
      }
    },
    {
      "cell_type": "code",
      "source": [
        "print(data.shape)"
      ],
      "metadata": {
        "trusted": true,
        "_uuid": "781d11b28fc372ec645dae56f7e42aabad5b6324",
        "collapsed": true,
        "jupyter": {
          "outputs_hidden": true
        },
        "id": "ovtn2gPXp2a1"
      },
      "outputs": [],
      "execution_count": null
    },
    {
      "cell_type": "markdown",
      "source": [
        "# Check DataSets Columns"
      ],
      "metadata": {
        "_uuid": "04b0c113f01e43d9889b871e40ba8f33227fd898",
        "id": "57JbE6rpp2a3"
      }
    },
    {
      "cell_type": "code",
      "source": [
        "data.columns"
      ],
      "metadata": {
        "trusted": true,
        "_uuid": "fe49ffbe6d2a4aa6b9fc81a6653834891c952f22",
        "collapsed": true,
        "jupyter": {
          "outputs_hidden": true
        },
        "id": "zbtkcVuxp2a4"
      },
      "outputs": [],
      "execution_count": null
    },
    {
      "cell_type": "markdown",
      "source": [
        "# Check Missing Data"
      ],
      "metadata": {
        "_uuid": "077da9b9706fe41ad826d3f517549ca2c722c693",
        "id": "RlVfKexip2a5"
      }
    },
    {
      "cell_type": "code",
      "source": [
        "data.isnull().sum()"
      ],
      "metadata": {
        "trusted": true,
        "_uuid": "b9323fad0853f25e62cac5452c1810a961ab2ac5",
        "collapsed": true,
        "jupyter": {
          "outputs_hidden": true
        },
        "id": "VvWCSSnJp2a6"
      },
      "outputs": [],
      "execution_count": null
    },
    {
      "cell_type": "markdown",
      "source": [
        "# Gender  Value Counts & Percentage  In Dataset"
      ],
      "metadata": {
        "trusted": true,
        "collapsed": true,
        "_uuid": "02e54fa9818b85040c0a5c6d9027960e02a44c9f",
        "jupyter": {
          "outputs_hidden": true
        },
        "id": "UUrSyhk8p2a7"
      }
    },
    {
      "cell_type": "code",
      "source": [
        "data['gender'].value_counts()"
      ],
      "metadata": {
        "trusted": true,
        "_uuid": "fb5cdcf7b5803b22427c96c1aaf90c276bb22663",
        "collapsed": true,
        "jupyter": {
          "outputs_hidden": true
        },
        "id": "p3qOg7_Pp2a8"
      },
      "outputs": [],
      "execution_count": null
    },
    {
      "cell_type": "code",
      "source": [
        "print('Percentage',data.gender.value_counts(normalize=True))\n",
        "data.gender.value_counts(normalize=True).plot(kind='bar')"
      ],
      "metadata": {
        "trusted": true,
        "_uuid": "62b73dba4d6ddaba3c667f51d2e6d67933898011",
        "collapsed": true,
        "jupyter": {
          "outputs_hidden": true
        },
        "id": "Fz_0OHvtp2a-"
      },
      "outputs": [],
      "execution_count": null
    },
    {
      "cell_type": "markdown",
      "source": [
        "# NationalITy  Value Counts & Percentage  In Dataset"
      ],
      "metadata": {
        "_uuid": "f0cd87faa576aa0f645de0328c9c8ee3ad08884f",
        "id": "Q5LuUW69p2a_"
      }
    },
    {
      "cell_type": "code",
      "source": [
        "data['NationalITy'].value_counts()"
      ],
      "metadata": {
        "trusted": true,
        "_uuid": "c7e5317254f0a473fa49aacd86d7ecf36b3d3eb3",
        "collapsed": true,
        "jupyter": {
          "outputs_hidden": true
        },
        "id": "rZTKFY1Kp2bA"
      },
      "outputs": [],
      "execution_count": null
    },
    {
      "cell_type": "code",
      "source": [
        "print('Percentage',data.NationalITy.value_counts(normalize=True))\n",
        "data.NationalITy.value_counts(normalize=True).plot(kind='bar')"
      ],
      "metadata": {
        "trusted": true,
        "_uuid": "ebe18ef556250f52ac664d51648c763a150e88a7",
        "collapsed": true,
        "jupyter": {
          "outputs_hidden": true
        },
        "id": "b6DWbGDvp2bC"
      },
      "outputs": [],
      "execution_count": null
    },
    {
      "cell_type": "markdown",
      "source": [
        "# PlaceofBirth Value Counts & Percentage In Dataset"
      ],
      "metadata": {
        "_uuid": "675db642abcd149490b2db10cd6a4071ca75c087",
        "id": "8SK7Bdtsp2bD"
      }
    },
    {
      "cell_type": "code",
      "source": [
        "data['PlaceofBirth'].value_counts()"
      ],
      "metadata": {
        "trusted": true,
        "_uuid": "dae8b379aa0b02619819c49dda0c5620b3b63802",
        "collapsed": true,
        "jupyter": {
          "outputs_hidden": true
        },
        "id": "G1PiKLNMp2bG"
      },
      "outputs": [],
      "execution_count": null
    },
    {
      "cell_type": "code",
      "source": [
        "print('Percentage',data.PlaceofBirth.value_counts(normalize=True))\n",
        "data.PlaceofBirth.value_counts(normalize=True).plot(kind='bar')"
      ],
      "metadata": {
        "trusted": true,
        "_uuid": "4fb461bb6bfbbc239db7b899bd55cdc0ac89a08a",
        "collapsed": true,
        "jupyter": {
          "outputs_hidden": true
        },
        "id": "-O25gj3Bp2bI"
      },
      "outputs": [],
      "execution_count": null
    },
    {
      "cell_type": "markdown",
      "source": [
        "*  <b>  Most of these countries are in the middle east(Islamic states), perhaps this explains the gender disparity </b>"
      ],
      "metadata": {
        "_uuid": "e755b2f590f2920fac1418c7a1a9d29650d43656",
        "id": "XU4QnCcup2bK"
      }
    },
    {
      "cell_type": "markdown",
      "source": [
        "# StageID  Value Counts & Percentage In Dataset"
      ],
      "metadata": {
        "_uuid": "01c3d8cc39dea64793dca0544c34245944876089",
        "id": "cyrXVZpKp2bM"
      }
    },
    {
      "cell_type": "code",
      "source": [
        "data['StageID'].value_counts()"
      ],
      "metadata": {
        "trusted": true,
        "_uuid": "702e9a6d5e67f105748ea78b361ec6382383d820",
        "collapsed": true,
        "jupyter": {
          "outputs_hidden": true
        },
        "id": "QsgQUOpPp2bN"
      },
      "outputs": [],
      "execution_count": null
    },
    {
      "cell_type": "code",
      "source": [
        "print('Percentage',data.StageID.value_counts(normalize=True))\n",
        "data.StageID.value_counts(normalize=True).plot(kind='bar')"
      ],
      "metadata": {
        "trusted": true,
        "_uuid": "73154d70d184cefac558a2a58e58344e0d2e4a8f",
        "collapsed": true,
        "jupyter": {
          "outputs_hidden": true
        },
        "id": "5pdWXAVxp2bP"
      },
      "outputs": [],
      "execution_count": null
    },
    {
      "cell_type": "markdown",
      "source": [
        "# GradeID  Value Counts & Percentage  In Dataset"
      ],
      "metadata": {
        "_uuid": "0c32227b6daf5eeeac9d2298eca0c0eff51e2416",
        "id": "ydKKDsgbp2bQ"
      }
    },
    {
      "cell_type": "code",
      "source": [
        "data['GradeID'].value_counts()"
      ],
      "metadata": {
        "trusted": true,
        "_uuid": "adac1df5460fec932bdd400b9effe29e96c8d106",
        "collapsed": true,
        "jupyter": {
          "outputs_hidden": true
        },
        "id": "6B6dS8wqp2bR"
      },
      "outputs": [],
      "execution_count": null
    },
    {
      "cell_type": "code",
      "source": [
        "print('Percentage',data.GradeID.value_counts(normalize=True))\n",
        "data.GradeID.value_counts(normalize=True).plot(kind='bar')"
      ],
      "metadata": {
        "trusted": true,
        "_uuid": "a2061e5336d5605a7ec6445f523c2a0f4f86e264",
        "collapsed": true,
        "jupyter": {
          "outputs_hidden": true
        },
        "id": "Ba5ctBJZp2bT"
      },
      "outputs": [],
      "execution_count": null
    },
    {
      "cell_type": "markdown",
      "source": [
        "# Topic Value Counts & Parcentage In Dataset"
      ],
      "metadata": {
        "_uuid": "bc71651c94f74f24c12d99472d734cc888a1ff30",
        "id": "0LKKlvCHp2bW"
      }
    },
    {
      "cell_type": "code",
      "source": [
        "data['Topic'].value_counts()"
      ],
      "metadata": {
        "trusted": true,
        "_uuid": "756c3c1719bfbd72e3fcea6d7de847cea7f38622",
        "collapsed": true,
        "jupyter": {
          "outputs_hidden": true
        },
        "id": "zfOvLV-Lp2bY"
      },
      "outputs": [],
      "execution_count": null
    },
    {
      "cell_type": "code",
      "source": [
        "print('Percentage',data.Topic.value_counts(normalize=True))\n",
        "data.Topic.value_counts(normalize=True).plot(kind='bar')"
      ],
      "metadata": {
        "trusted": true,
        "_uuid": "73d6461f204200a4cc8a52c620b7cc1b7b118dab",
        "collapsed": true,
        "jupyter": {
          "outputs_hidden": true
        },
        "id": "rBFbend3p2bZ"
      },
      "outputs": [],
      "execution_count": null
    },
    {
      "cell_type": "markdown",
      "source": [
        "# Semester Value Counts & Parcentage In Dataset"
      ],
      "metadata": {
        "_uuid": "47e85f416e7d54da40d3c9621262c8188c800715",
        "id": "DuC6cvzcp2ba"
      }
    },
    {
      "cell_type": "code",
      "source": [
        "data['Semester'].value_counts()"
      ],
      "metadata": {
        "trusted": true,
        "_uuid": "1ac6fc281a0f46695a4410d1e28032b8bd23c616",
        "collapsed": true,
        "jupyter": {
          "outputs_hidden": true
        },
        "id": "RxU06UIhp2bb"
      },
      "outputs": [],
      "execution_count": null
    },
    {
      "cell_type": "code",
      "source": [
        "print('Parcentage',data.Semester.value_counts(normalize=True))\n",
        "data.Semester.value_counts(normalize=True).plot(kind='bar')"
      ],
      "metadata": {
        "trusted": true,
        "_uuid": "ac6d9ff8dd5c07e5dfd99e0e67bdc178a06f40fd",
        "collapsed": true,
        "jupyter": {
          "outputs_hidden": true
        },
        "id": "w3oJKPBKp2dP"
      },
      "outputs": [],
      "execution_count": null
    },
    {
      "cell_type": "markdown",
      "source": [
        "# Relation Value Counts & Parcentage In Dataset"
      ],
      "metadata": {
        "_uuid": "0ea43261f6f0c7e570e54ffedbebac54a08f7ee2",
        "id": "2OorVmaAp2dT"
      }
    },
    {
      "cell_type": "code",
      "source": [
        "data['Relation'].value_counts()"
      ],
      "metadata": {
        "trusted": true,
        "_uuid": "5db6ae99fbe3af5d3bd52e03bc3a3516ed58f6c4",
        "collapsed": true,
        "jupyter": {
          "outputs_hidden": true
        },
        "id": "ppiQ8oBXp2dW"
      },
      "outputs": [],
      "execution_count": null
    },
    {
      "cell_type": "code",
      "source": [
        "print('Parcentage',data.Relation.value_counts(normalize=True))\n",
        "data.Relation.value_counts(normalize=True).plot(kind='bar')"
      ],
      "metadata": {
        "trusted": true,
        "_uuid": "251d10293aaadd1e3dc41271ddee15f9c3dd1b31",
        "collapsed": true,
        "jupyter": {
          "outputs_hidden": true
        },
        "id": "ImD1LOQmp2df"
      },
      "outputs": [],
      "execution_count": null
    },
    {
      "cell_type": "markdown",
      "source": [
        "# Raisedhands Value Counts & Parcentage In Dataset"
      ],
      "metadata": {
        "_uuid": "e6a379a22c4f015e2f54b9d2b3e4650d803e57c4",
        "id": "4RdRKAIPp2di"
      }
    },
    {
      "cell_type": "code",
      "source": [
        "data['raisedhands'].value_counts()"
      ],
      "metadata": {
        "trusted": true,
        "_uuid": "64951811f990a3ded317f4c1519f46e8ae6f692f",
        "collapsed": true,
        "jupyter": {
          "outputs_hidden": true
        },
        "id": "ud5XJLifp2dk"
      },
      "outputs": [],
      "execution_count": null
    },
    {
      "cell_type": "code",
      "source": [
        "#print('Parcentage',df.raisedhands.value_counts(normalize=True))\n",
        "#df.raisedhands.value_counts(normalize=True).plot(kind='bar')\n",
        "color_brewer = ['#41B5A3','#FFAF87','#FF8E72','#ED6A5E','#377771','#E89005','#C6000D','#000000','#05668D','#028090','#9FD35C',\n",
        "                '#02C39A','#F0F3BD','#41B5A3','#FF6F59','#254441','#B2B09B','#EF3054','#9D9CE8','#0F4777','#5F67DD','#235077','#CCE4F9','#1748D1',\n",
        "                '#8BB3D6','#467196','#F2C4A2','#F2B1A4','#C42746','#330C25']\n",
        "fig = {\n",
        "  \"data\": [\n",
        "    {\n",
        "      \"values\": data[\"raisedhands\"].value_counts().values,\n",
        "      \"labels\": data[\"raisedhands\"].value_counts().index,\n",
        "      \"domain\": {\"x\": [0, .95]},\n",
        "      \"name\": \"Raisedhands Parcentage\",\n",
        "      \"hoverinfo\":\"label+percent+name\",\n",
        "      \"hole\": .7,\n",
        "      \"type\": \"pie\",\n",
        "      \"marker\": {\"colors\": [i for i in reversed(color_brewer)]},\n",
        "      \"textfont\": {\"color\": \"#FFFFFF\"}\n",
        "    }],\n",
        "  \"layout\": {\n",
        "        \"title\":\"Raisedhands Parcentage\",\n",
        "        \"annotations\": [\n",
        "            {\n",
        "                \"font\": {\n",
        "                    \"size\": 15\n",
        "                },\n",
        "                \"showarrow\": False,\n",
        "                \"text\": \"Raisedhands Parcentage\",\n",
        "                \"x\": 0.47,\n",
        "                \"y\": 0.5\n",
        "            }\n",
        "        ]\n",
        "    }\n",
        "}\n",
        "iplot(fig, filename='donut')"
      ],
      "metadata": {
        "trusted": true,
        "_uuid": "55952dc9ed86300c4ce7de6024090ff1be5d5f17",
        "collapsed": true,
        "jupyter": {
          "outputs_hidden": true
        },
        "id": "D3ZEcZfdp2dn"
      },
      "outputs": [],
      "execution_count": null
    },
    {
      "cell_type": "markdown",
      "source": [
        "# ParentschoolSatisfaction Value Counts & Parcentage In Dataset"
      ],
      "metadata": {
        "_uuid": "8a252b874938fec5fe37df7f21bff3d45036a4b1",
        "id": "CvFH8Gjdp2dp"
      }
    },
    {
      "cell_type": "code",
      "source": [
        "data['ParentschoolSatisfaction'].value_counts()"
      ],
      "metadata": {
        "trusted": true,
        "_uuid": "a102350f78d0c29d4ac1ef94b5d1e4175cf6bbb3",
        "collapsed": true,
        "jupyter": {
          "outputs_hidden": true
        },
        "id": "4ceOcC4vp2ds"
      },
      "outputs": [],
      "execution_count": null
    },
    {
      "cell_type": "code",
      "source": [
        "print('Parcentage',data.ParentschoolSatisfaction.value_counts(normalize=True))\n",
        "data.ParentschoolSatisfaction.value_counts(normalize=True).plot(kind='bar')"
      ],
      "metadata": {
        "trusted": true,
        "_uuid": "f75bf763b13bfdf36aaa5d0f08e81f85ef29024f",
        "collapsed": true,
        "jupyter": {
          "outputs_hidden": true
        },
        "id": "ogj3vmSGp2du"
      },
      "outputs": [],
      "execution_count": null
    },
    {
      "cell_type": "markdown",
      "source": [
        "# ParentAnsweringSurvey Value Counts & Parcentage In Dataset"
      ],
      "metadata": {
        "_uuid": "546ce60c61eaad36dd13ec860ba28854caf97e8b",
        "id": "mSc5yKABp2dw"
      }
    },
    {
      "cell_type": "code",
      "source": [
        "data['ParentAnsweringSurvey'].value_counts()"
      ],
      "metadata": {
        "trusted": true,
        "_uuid": "81caf23f812ff2a3a11a3c1831c6cfaddb36467f",
        "collapsed": true,
        "jupyter": {
          "outputs_hidden": true
        },
        "id": "uOzaTzvip2dy"
      },
      "outputs": [],
      "execution_count": null
    },
    {
      "cell_type": "code",
      "source": [
        "print('Parcentage',data.ParentAnsweringSurvey.value_counts(normalize=True))\n",
        "data.ParentAnsweringSurvey.value_counts(normalize=True).plot(kind='bar')"
      ],
      "metadata": {
        "trusted": true,
        "_uuid": "c40ae52083c031d864ed70cb2b4fa3c8aa82c170",
        "collapsed": true,
        "jupyter": {
          "outputs_hidden": true
        },
        "id": "AD9hBuJLp2d0"
      },
      "outputs": [],
      "execution_count": null
    },
    {
      "cell_type": "markdown",
      "source": [
        "# StudentAbsenceDays Value Counts & Parcentage In Dataset"
      ],
      "metadata": {
        "_uuid": "90bb2679691286bbbc037f4ad83debe75e4f8e96",
        "id": "Bg_js1zSp2d1"
      }
    },
    {
      "cell_type": "code",
      "source": [
        "data['StudentAbsenceDays'].value_counts()"
      ],
      "metadata": {
        "trusted": true,
        "_uuid": "f6cfc31e100a9d29cdaff15fff2c9307cdfc9ec5",
        "collapsed": true,
        "jupyter": {
          "outputs_hidden": true
        },
        "id": "5taVwd9Gp2d3"
      },
      "outputs": [],
      "execution_count": null
    },
    {
      "cell_type": "code",
      "source": [
        "print('Parcentage',data.StudentAbsenceDays.value_counts(normalize=True))\n",
        "data.StudentAbsenceDays.value_counts(normalize=True).plot(kind='bar')"
      ],
      "metadata": {
        "trusted": true,
        "_uuid": "027ab24a638ba066d2bc114a0f1cf00fdf21862e",
        "collapsed": true,
        "jupyter": {
          "outputs_hidden": true
        },
        "id": "6qNhYbUsp2d6"
      },
      "outputs": [],
      "execution_count": null
    },
    {
      "cell_type": "markdown",
      "source": [
        "# Class Value Counts & Parcentage In Dataset"
      ],
      "metadata": {
        "_uuid": "5dc7cdb164da85bfe58eb3dbe95833dc612eaa8f",
        "id": "8dui2j2lp2d_"
      }
    },
    {
      "cell_type": "code",
      "source": [
        "data['Class'].value_counts()"
      ],
      "metadata": {
        "trusted": true,
        "_uuid": "a01a1b4cb28ee6c29db5cb7d30c94e68742c0105",
        "collapsed": true,
        "jupyter": {
          "outputs_hidden": true
        },
        "id": "WskFpiRfp2eB"
      },
      "outputs": [],
      "execution_count": null
    },
    {
      "cell_type": "code",
      "source": [
        "print('Parcentage',data.Class.value_counts(normalize=True))\n",
        "data.Class.value_counts(normalize=True).plot(kind='bar')"
      ],
      "metadata": {
        "trusted": true,
        "_uuid": "af5860f60f35bc3e1fe0ec2fbdf3313854ffb7ef",
        "collapsed": true,
        "jupyter": {
          "outputs_hidden": true
        },
        "id": "MYHEbwF4p2eE"
      },
      "outputs": [],
      "execution_count": null
    },
    {
      "cell_type": "markdown",
      "source": [
        "* <p>Girls seem to have performed better than boys\n",
        "* Girls had much better attendance than boys</p>"
      ],
      "metadata": {
        "_uuid": "2a746c68be199020cf58ab3918be90927f2fec8a",
        "id": "2uYU-WBmp2eG"
      }
    },
    {
      "cell_type": "markdown",
      "source": [
        "* <p><b>I'll start with visualizing just the categorical features individually to see what options are included and how each option fares when it comes to count(how many times it appears) and see what I can deduce from that.</p></b>"
      ],
      "metadata": {
        "_uuid": "0bdd324ea6a301c56c7b670db3e87e88f3f162b8",
        "id": "PfREOktap2eI"
      }
    },
    {
      "cell_type": "code",
      "source": [
        "fig, axarr  = plt.subplots(2,2,figsize=(10,10))\n",
        "sns.countplot(x='Class', data=data, ax=axarr[0,0], order=['L','M','H'])\n",
        "sns.countplot(x='gender', data=data, ax=axarr[0,1], order=['M','F'])\n",
        "sns.countplot(x='StageID', data=data, ax=axarr[1,0])\n",
        "sns.countplot(x='Semester', data=data, ax=axarr[1,1])"
      ],
      "metadata": {
        "trusted": true,
        "_uuid": "b9ea01dd6335146fb74e14ae5dbdbacaaff66f67",
        "collapsed": true,
        "jupyter": {
          "outputs_hidden": true
        },
        "id": "bqchn6_Xp2eK"
      },
      "outputs": [],
      "execution_count": null
    },
    {
      "cell_type": "code",
      "source": [
        "fig, (axis1, axis2)  = plt.subplots(2, 1,figsize=(10,10))\n",
        "sns.countplot(x='Topic', data=data, ax=axis1)\n",
        "sns.countplot(x='NationalITy', data=data, ax=axis2)"
      ],
      "metadata": {
        "trusted": true,
        "_uuid": "56befe79d96c19aa9719f58a5f56594e0f0fa752",
        "collapsed": true,
        "jupyter": {
          "outputs_hidden": true
        },
        "id": "KRweGZbap2eO"
      },
      "outputs": [],
      "execution_count": null
    },
    {
      "cell_type": "markdown",
      "source": [
        "* <p><b>Next I will look at some categorical features in relation to each other, to see what insights that could possibly read</p></b>"
      ],
      "metadata": {
        "_uuid": "443a361b3ed6d663c0766cbf844412748d638e2a",
        "id": "pQQ2yBq8p2eQ"
      }
    },
    {
      "cell_type": "code",
      "source": [
        "fig, axarr  = plt.subplots(2,2,figsize=(10,10))\n",
        "sns.countplot(x='gender', hue='Class', data=data, ax=axarr[0,0], order=['M','F'], hue_order=['L','M','H'])\n",
        "sns.countplot(x='gender', hue='Relation', data=data, ax=axarr[0,1], order=['M','F'])\n",
        "sns.countplot(x='gender', hue='StudentAbsenceDays', data=data, ax=axarr[1,0], order=['M','F'])\n",
        "sns.countplot(x='gender', hue='ParentAnsweringSurvey', data=data, ax=axarr[1,1], order=['M','F'])"
      ],
      "metadata": {
        "trusted": true,
        "_uuid": "3c004e15388b1f58bad01acd3c673952c0fbfa99",
        "collapsed": true,
        "jupyter": {
          "outputs_hidden": true
        },
        "id": "Io-DjroFp2eS"
      },
      "outputs": [],
      "execution_count": null
    },
    {
      "cell_type": "code",
      "source": [
        "fig, (axis1, axis2)  = plt.subplots(2, 1,figsize=(10,10))\n",
        "sns.countplot(x='Topic', hue='gender', data=data, ax=axis1)\n",
        "sns.countplot(x='NationalITy', hue='gender', data=data, ax=axis2)"
      ],
      "metadata": {
        "trusted": true,
        "_uuid": "1fb5fbd494867427bd50f9868a0d143292793498",
        "collapsed": true,
        "jupyter": {
          "outputs_hidden": true
        },
        "id": "Uao0oL60p2eU"
      },
      "outputs": [],
      "execution_count": null
    },
    {
      "cell_type": "markdown",
      "source": [
        "* <p> <b> No apparent gender bias when it comes to subject/topic choices, we cannot conclude that girls performed better because they perhaps took less technical subjects\n",
        "* Gender disparity holds even at a country level. May just be as a result of the sampling.</p></b>"
      ],
      "metadata": {
        "_uuid": "3fd7765edb28e471bf9485e21d66f8dc70e013ac",
        "id": "UFzqIYfjp2eV"
      }
    },
    {
      "cell_type": "code",
      "source": [
        "fig, (axis1, axis2)  = plt.subplots(2, 1,figsize=(10,10))\n",
        "sns.countplot(x='NationalITy', hue='Relation', data=data, ax=axis1)\n",
        "sns.countplot(x='NationalITy', hue='StudentAbsenceDays', data=data, ax=axis2)"
      ],
      "metadata": {
        "trusted": true,
        "_uuid": "e9c6c97143bd9c36d37c6c8a306b93a2e6c939d1",
        "collapsed": true,
        "jupyter": {
          "outputs_hidden": true
        },
        "id": "k3brIxDQp2eX"
      },
      "outputs": [],
      "execution_count": null
    },
    {
      "cell_type": "markdown",
      "source": [
        "\n",
        "## Now I am moving on to visualizing categorical features with numerical features.\n"
      ],
      "metadata": {
        "_uuid": "dcd32d03e989118de9f8126add453caa657da8fb",
        "id": "q8X8l2FSp2eY"
      }
    },
    {
      "cell_type": "code",
      "source": [
        "fig, axarr  = plt.subplots(2,2,figsize=(10,10))\n",
        "sns.barplot(x='Class', y='VisITedResources', data=data, order=['L','M','H'], ax=axarr[0,0])\n",
        "sns.barplot(x='Class', y='AnnouncementsView', data=data, order=['L','M','H'], ax=axarr[0,1])\n",
        "sns.barplot(x='Class', y='raisedhands', data=data, order=['L','M','H'], ax=axarr[1,0])\n",
        "sns.barplot(x='Class', y='Discussion', data=data, order=['L','M','H'], ax=axarr[1,1])"
      ],
      "metadata": {
        "trusted": true,
        "_uuid": "a552e11a2833466c724b35fe1408a86874799d59",
        "collapsed": true,
        "jupyter": {
          "outputs_hidden": true
        },
        "id": "DKj_RZ6Tp2ea"
      },
      "outputs": [],
      "execution_count": null
    },
    {
      "cell_type": "markdown",
      "source": [
        "* <p><b>As expected, those that participated more (higher counts in Discussion, raisedhands, AnnouncementViews, RaisedHands), performed better ...that thing about correlation and causation.</p></b>"
      ],
      "metadata": {
        "_uuid": "200ee1255ef7ea7f70ceb0119e656ab938918f8f",
        "id": "0Xg4hCsNp2ee"
      }
    },
    {
      "cell_type": "code",
      "source": [
        "fig, (axis1,axis2) = plt.subplots(1,2,figsize=(10,5))\n",
        "sns.barplot(x='gender', y='raisedhands', data=data, ax=axis1)\n",
        "sns.barplot(x='gender', y='Discussion', data=data, ax=axis2)"
      ],
      "metadata": {
        "trusted": true,
        "_uuid": "7e4b74a3b6579a930ceb8d882ee058da1cd6cf90",
        "collapsed": true,
        "jupyter": {
          "outputs_hidden": true
        },
        "id": "nKIPuLOkp2eg"
      },
      "outputs": [],
      "execution_count": null
    },
    {
      "cell_type": "markdown",
      "source": [
        "## There are various other plots that help visualize Categorical vs Numerical data better."
      ],
      "metadata": {
        "_uuid": "0dd91e672b54d7fb48e6ab414b7225eba53b18fb",
        "id": "PRfDUUSEp2ek"
      }
    },
    {
      "cell_type": "code",
      "source": [
        "fig, (axis1, axis2)  = plt.subplots(1, 2,figsize=(10,5))\n",
        "sns.swarmplot(x='gender', y='AnnouncementsView', data=data, ax=axis1)\n",
        "sns.swarmplot(x='gender', y='raisedhands', data=data, ax=axis2)"
      ],
      "metadata": {
        "trusted": true,
        "_uuid": "ecfca7d53e4f165e26031b466fd112f9b6e62de6",
        "collapsed": true,
        "jupyter": {
          "outputs_hidden": true
        },
        "id": "bA3W5sHFp2em"
      },
      "outputs": [],
      "execution_count": null
    },
    {
      "cell_type": "code",
      "source": [
        "fig, (axis1, axis2)  = plt.subplots(1, 2,figsize=(10,5))\n",
        "sns.boxplot(x='Class', y='Discussion', data=data, order=['L','M','H'], ax=axis1)\n",
        "sns.boxplot(x='Class', y='VisITedResources', data=data, order=['L','M','H'], ax=axis2)"
      ],
      "metadata": {
        "trusted": true,
        "_uuid": "cef0946f6ce3570ed9d58289575cfa2901511ea4",
        "collapsed": true,
        "jupyter": {
          "outputs_hidden": true
        },
        "id": "WjVYxAhhp2en"
      },
      "outputs": [],
      "execution_count": null
    },
    {
      "cell_type": "markdown",
      "source": [
        "* <p> The two plots above tell us that visiting the resources may not be as sure a path to performing well as discussions<p>"
      ],
      "metadata": {
        "_uuid": "5a0d3fa48652e90f3911e30eacd6e7cea0c3c5df",
        "id": "SdxC3OVAp2ep"
      }
    },
    {
      "cell_type": "code",
      "source": [
        "fig, (axis1, axis2)  = plt.subplots(1, 2,figsize=(10,5))\n",
        "sns.pointplot(x='Semester', y='VisITedResources', hue='gender', data=data, ax=axis1)\n",
        "sns.pointplot(x='Semester', y='AnnouncementsView', hue='gender', data=data, ax=axis2)"
      ],
      "metadata": {
        "trusted": true,
        "_uuid": "334570bde73b7ef6ebdef4831fbfc6ad8c013647",
        "collapsed": true,
        "jupyter": {
          "outputs_hidden": true
        },
        "id": "q6khq-Bpp2eq"
      },
      "outputs": [],
      "execution_count": null
    },
    {
      "cell_type": "markdown",
      "source": [
        "* <p>In the case of both visiting resources and viewing announcements, students were more vigilant in the second semester, perhaps that last minute need to boost your final grade.</p>"
      ],
      "metadata": {
        "_uuid": "515bbdb3d04b725126cc450ab171d93ef8a21301",
        "id": "e5p9FLBNp2er"
      }
    },
    {
      "cell_type": "markdown",
      "source": [
        "## Moving on to plots to visualize relationships between numerical features."
      ],
      "metadata": {
        "_uuid": "8a386831d7219693fbda450bfff7315343ef10e8",
        "id": "E7u-AxYNp2es"
      }
    },
    {
      "cell_type": "code",
      "source": [
        "fig, (axis1, axis2)  = plt.subplots(1, 2,figsize=(10,5))\n",
        "sns.regplot(x='raisedhands', y='VisITedResources', data=data, ax=axis1)\n",
        "sns.regplot(x='AnnouncementsView', y='Discussion', data=data, ax=axis2)"
      ],
      "metadata": {
        "trusted": true,
        "_uuid": "936cd9504942eacf89c425957c43c392c8b77995",
        "collapsed": true,
        "jupyter": {
          "outputs_hidden": true
        },
        "id": "Qs-r-BLQp2ev"
      },
      "outputs": [],
      "execution_count": null
    },
    {
      "cell_type": "markdown",
      "source": [
        "## Gender Comparison With Parents Relationship"
      ],
      "metadata": {
        "_uuid": "ab640552b2ee7563589100c10d07822698958a08",
        "id": "i1Lucdc6p2ex"
      }
    },
    {
      "cell_type": "code",
      "source": [
        "plot = sns.countplot(x='Class', hue='Relation', data=data, order=['L', 'M', 'H'], palette='Set1')\n",
        "plot.set(xlabel='Class', ylabel='Count', title='Gender comparison')\n",
        "plt.show()"
      ],
      "metadata": {
        "trusted": true,
        "_uuid": "0a9055108e0052400a40c076d75013f3a436ff95",
        "collapsed": true,
        "jupyter": {
          "outputs_hidden": true
        },
        "id": "hLaCJBr0p2ez"
      },
      "outputs": [],
      "execution_count": null
    },
    {
      "cell_type": "markdown",
      "source": [
        "## Pairplot"
      ],
      "metadata": {
        "_uuid": "6ce02b19f39800d9e54f28fd9f1da3a16aec1bae",
        "id": "xwCPuVAxp2e0"
      }
    },
    {
      "cell_type": "code",
      "source": [
        "sns.pairplot(data,hue='Class')"
      ],
      "metadata": {
        "trusted": true,
        "_uuid": "cf3d11d1189537e562adb04410d9f0e1fe3aba59",
        "collapsed": true,
        "jupyter": {
          "outputs_hidden": true
        },
        "id": "lCpuNc9kp2e1"
      },
      "outputs": [],
      "execution_count": null
    },
    {
      "cell_type": "markdown",
      "source": [
        "## Graph Analysis Gender vs Place of Birth"
      ],
      "metadata": {
        "_uuid": "7fe6cc025dd0dee76c5dfb144a02703893193a5b",
        "id": "utrqgrQOp2e2"
      }
    },
    {
      "cell_type": "code",
      "source": [
        "import networkx as nx\n",
        "\n",
        "g= nx.Graph()\n",
        "g = nx.from_pandas_dataframe(data,source='gender',target='PlaceofBirth')\n",
        "print (nx.info(g))\n",
        "\n",
        "\n",
        "plt.figure(figsize=(10,10))\n",
        "nx.draw_networkx(g,with_labels=True,node_size=50, alpha=0.5, node_color=\"blue\")\n",
        "plt.show()"
      ],
      "metadata": {
        "trusted": true,
        "_uuid": "15166a0e8a4638567668cd207cd9b2845581ea62",
        "collapsed": true,
        "jupyter": {
          "outputs_hidden": true
        },
        "id": "XOd9CBO0p2e3"
      },
      "outputs": [],
      "execution_count": null
    },
    {
      "cell_type": "markdown",
      "source": [
        " # 2. Machine Learning Algorithm  applying:<a class=\"link\" href=\"https://www.kaggle.com/harunshimanto\" target=\"_blank\">Harun-Ur-Rashid\n",
        " <p>Now we get to the machine learning section. We will start by encoding our categorical variables and splitting the data into a train and test set.\n"
      ],
      "metadata": {
        "_uuid": "4d54d1ae8e8dbc94f99642e2adaaf6b4b08dbedf",
        "id": "-RuYSklBp2e5"
      }
    },
    {
      "cell_type": "markdown",
      "source": [
        "## Label Encoding"
      ],
      "metadata": {
        "_uuid": "534e186a6288a7a98dbc4462491735d1fa9b4eb1",
        "id": "UrKEduuEp2e7"
      }
    },
    {
      "cell_type": "markdown",
      "source": [
        "<p><b>1.Gender Encoding"
      ],
      "metadata": {
        "_uuid": "cfe0c6ab88efda40c25e6fe3adfb5241416a7e99",
        "id": "6vngTb5ip2e9"
      }
    },
    {
      "cell_type": "code",
      "source": [
        "Features = data.drop('gender',axis=1)\n",
        "Target = data['gender']\n",
        "label = LabelEncoder()\n",
        "Cat_Colums = Features.dtypes.pipe(lambda Features: Features[Features=='object']).index\n",
        "for col in Cat_Colums:\n",
        "    Features[col] = label.fit_transform(Features[col])\n",
        ""
      ],
      "metadata": {
        "trusted": true,
        "_uuid": "e891e65c1f2330d9a00557d7de22cc094b552521",
        "collapsed": true,
        "jupyter": {
          "outputs_hidden": true
        },
        "id": "9mcQWgGep2fB"
      },
      "outputs": [],
      "execution_count": null
    },
    {
      "cell_type": "markdown",
      "source": [
        "<p><b>2.Semester Encoding"
      ],
      "metadata": {
        "_uuid": "b4a35b8bbd80135f929c7917b3ce223e0259fbd6",
        "id": "sH9M3Mwyp2fD"
      }
    },
    {
      "cell_type": "code",
      "source": [
        "Features = data.drop('Semester',axis=1)\n",
        "Target = data['Semester']\n",
        "label = LabelEncoder()\n",
        "Cat_Colums = Features.dtypes.pipe(lambda Features: Features[Features=='object']).index\n",
        "for col in Cat_Colums:\n",
        "    Features[col] = label.fit_transform(Features[col])"
      ],
      "metadata": {
        "trusted": true,
        "collapsed": true,
        "_uuid": "ccbffb7bf7cb6241c599cc57e6e4255168e63963",
        "jupyter": {
          "outputs_hidden": true
        },
        "id": "ioh5GONpp2fE"
      },
      "outputs": [],
      "execution_count": null
    },
    {
      "cell_type": "markdown",
      "source": [
        "<p><b>3.ParentAnsweringSurvey Encoding"
      ],
      "metadata": {
        "_uuid": "5b22963ac7198cbd93b7f6f8e4a91a68892d1bf6",
        "id": "ahWvg36bp2fF"
      }
    },
    {
      "cell_type": "code",
      "source": [
        "Features = data.drop('ParentAnsweringSurvey',axis=1)\n",
        "Target = data['ParentAnsweringSurvey']\n",
        "label = LabelEncoder()\n",
        "Cat_Colums = Features.dtypes.pipe(lambda Features: Features[Features=='object']).index\n",
        "for col in Cat_Colums:\n",
        "    Features[col] = label.fit_transform(Features[col])"
      ],
      "metadata": {
        "trusted": true,
        "collapsed": true,
        "_uuid": "f216327f27cd90a82283eacf168bbdd5ea1ca39c",
        "jupyter": {
          "outputs_hidden": true
        },
        "id": "06bD0azSp2fG"
      },
      "outputs": [],
      "execution_count": null
    },
    {
      "cell_type": "markdown",
      "source": [
        "<p><b>4.Relation Encoding"
      ],
      "metadata": {
        "_uuid": "a2eadb080d8aad7164c20a3c3e2bb44f40d1396c",
        "id": "tsYVEPOJp2fH"
      }
    },
    {
      "cell_type": "code",
      "source": [
        "Features = data.drop('Relation',axis=1)\n",
        "Target = data['Relation']\n",
        "label = LabelEncoder()\n",
        "Cat_Colums = Features.dtypes.pipe(lambda Features: Features[Features=='object']).index\n",
        "for col in Cat_Colums:\n",
        "    Features[col] = label.fit_transform(Features[col])"
      ],
      "metadata": {
        "trusted": true,
        "collapsed": true,
        "_uuid": "3ecd3a842794a5169a985039ca54131bf37e0f9d",
        "jupyter": {
          "outputs_hidden": true
        },
        "id": "s1YJgsv8p2fJ"
      },
      "outputs": [],
      "execution_count": null
    },
    {
      "cell_type": "markdown",
      "source": [
        "<p><b>5.ParentschoolSatisfaction Encoding"
      ],
      "metadata": {
        "_uuid": "669c7d5cf7ea57bf045920b0d1059808eef602d4",
        "id": "NaWiHh35p2fK"
      }
    },
    {
      "cell_type": "code",
      "source": [
        "Features = data.drop('ParentschoolSatisfaction',axis=1)\n",
        "Target = data['ParentschoolSatisfaction']\n",
        "label = LabelEncoder()\n",
        "Cat_Colums = Features.dtypes.pipe(lambda Features: Features[Features=='object']).index\n",
        "for col in Cat_Colums:\n",
        "    Features[col] = label.fit_transform(Features[col])"
      ],
      "metadata": {
        "trusted": true,
        "collapsed": true,
        "_uuid": "33486685a1cc385f31c418210fbe4ec3bc4ec770",
        "jupyter": {
          "outputs_hidden": true
        },
        "id": "50ba2PPYp2fL"
      },
      "outputs": [],
      "execution_count": null
    },
    {
      "cell_type": "markdown",
      "source": [
        "<p><b>6.StudentAbsenceDays Encoding"
      ],
      "metadata": {
        "_uuid": "9fdfc970a3e069f57e49b4b7baf724d38c308372",
        "id": "twJrUuIep2fM"
      }
    },
    {
      "cell_type": "code",
      "source": [
        "Features = data.drop('StudentAbsenceDays',axis=1)\n",
        "Target = data['StudentAbsenceDays']\n",
        "label = LabelEncoder()\n",
        "Cat_Colums = Features.dtypes.pipe(lambda Features: Features[Features=='object']).index\n",
        "for col in Cat_Colums:\n",
        "    Features[col] = label.fit_transform(Features[col])"
      ],
      "metadata": {
        "trusted": true,
        "collapsed": true,
        "_uuid": "274aad9d8d68a223534ec6a7084ec067627c49e1",
        "jupyter": {
          "outputs_hidden": true
        },
        "id": "s9AQ6Hklp2fN"
      },
      "outputs": [],
      "execution_count": null
    },
    {
      "cell_type": "markdown",
      "source": [
        "<p><b>7.Class Encoding"
      ],
      "metadata": {
        "_uuid": "6b521a175387153f876f7ef7ecd11732585e9cd2",
        "id": "XYVQFcG7p2fO"
      }
    },
    {
      "cell_type": "code",
      "source": [
        "Features = data.drop('Class',axis=1)\n",
        "Target = data['Class']\n",
        "label = LabelEncoder()\n",
        "Cat_Colums = Features.dtypes.pipe(lambda Features: Features[Features=='object']).index\n",
        "for col in Cat_Colums:\n",
        "    Features[col] = label.fit_transform(Features[col])"
      ],
      "metadata": {
        "trusted": true,
        "collapsed": true,
        "_uuid": "6acf7a8caf03aa0e9dcc5ebc5a048754b0a1de12",
        "jupyter": {
          "outputs_hidden": true
        },
        "id": "6EwKhkIXp2fQ"
      },
      "outputs": [],
      "execution_count": null
    },
    {
      "cell_type": "markdown",
      "source": [
        "## Test and Train Data Split"
      ],
      "metadata": {
        "_uuid": "e9079342b093f617d801db81c860443dfac48a45",
        "id": "oUAhdOvep2fT"
      }
    },
    {
      "cell_type": "code",
      "source": [
        "X_train, X_test, y_train, y_test = train_test_split(Features, Target, test_size=0.2, random_state=52)"
      ],
      "metadata": {
        "trusted": true,
        "_uuid": "c3159d5d74668ea5ab93021285273df9ab4deb24",
        "collapsed": true,
        "jupyter": {
          "outputs_hidden": true
        },
        "id": "ldvVLQgFp2fU"
      },
      "outputs": [],
      "execution_count": null
    },
    {
      "cell_type": "markdown",
      "source": [
        "## Logistic Regression Model"
      ],
      "metadata": {
        "_uuid": "38a4bdd8a7281668e6db3e144b49351987397c05",
        "id": "Lq4sx3i6p2fV"
      }
    },
    {
      "cell_type": "code",
      "source": [
        "Logit_Model = LogisticRegression()\n",
        "Logit_Model.fit(X_train,y_train)"
      ],
      "metadata": {
        "trusted": true,
        "_uuid": "f3dcbaa2f765983cd0defd4a585759ef1c126a57",
        "collapsed": true,
        "jupyter": {
          "outputs_hidden": true
        },
        "id": "nxkok5p-p2fW"
      },
      "outputs": [],
      "execution_count": null
    },
    {
      "cell_type": "markdown",
      "source": [
        "<p><b>Logistic Regression's Prediction,Score & Report"
      ],
      "metadata": {
        "_uuid": "d3ab17b8faa1d5d404602cec52b33be7fba822b9",
        "id": "WsSBJY2Dp2fY"
      }
    },
    {
      "cell_type": "code",
      "source": [
        "Prediction = Logit_Model.predict(X_test)\n",
        "Score = accuracy_score(y_test,Prediction)\n",
        "Report = classification_report(y_test,Prediction)"
      ],
      "metadata": {
        "trusted": true,
        "collapsed": true,
        "_uuid": "6b098af108609f06b5091898e69c32e6aebae969",
        "jupyter": {
          "outputs_hidden": true
        },
        "id": "HHqFH-g6p2fZ"
      },
      "outputs": [],
      "execution_count": null
    },
    {
      "cell_type": "code",
      "source": [
        "print(Prediction)"
      ],
      "metadata": {
        "trusted": true,
        "_uuid": "24205042cd3367dbe178290ee30485fd8e4a101e",
        "collapsed": true,
        "jupyter": {
          "outputs_hidden": true
        },
        "id": "O-L5DY_sp2fa"
      },
      "outputs": [],
      "execution_count": null
    },
    {
      "cell_type": "code",
      "source": [
        "print(Score)"
      ],
      "metadata": {
        "trusted": true,
        "_uuid": "f9d7a7d65b657b9c29a42aa9a31baec8c2364324",
        "collapsed": true,
        "jupyter": {
          "outputs_hidden": true
        },
        "id": "vzIRBryLp2fb"
      },
      "outputs": [],
      "execution_count": null
    },
    {
      "cell_type": "code",
      "source": [
        "print(Report)"
      ],
      "metadata": {
        "trusted": true,
        "_uuid": "2186395688e42cbc5d6cb07e6e8268d84db61926",
        "collapsed": true,
        "jupyter": {
          "outputs_hidden": true
        },
        "id": "IUHmnHkPp2fc"
      },
      "outputs": [],
      "execution_count": null
    },
    {
      "cell_type": "markdown",
      "source": [
        "## XGBoost"
      ],
      "metadata": {
        "_uuid": "5563c8d6b9a9f7fb02de5eeead4b89ef9fe9b537",
        "id": "iWvhAaZDp2fd"
      }
    },
    {
      "cell_type": "code",
      "source": [
        "xgb = XGBClassifier(max_depth=10, learning_rate=0.1, n_estimators=100,seed=10)\n",
        "xgb_pred = xgb.fit(X_train, y_train).predict(X_test)"
      ],
      "metadata": {
        "trusted": true,
        "_uuid": "a10dcb92c9e4e35fe9f2a0037e22efb3620e4f19",
        "collapsed": true,
        "jupyter": {
          "outputs_hidden": true
        },
        "id": "qnoQeQmKp2fe"
      },
      "outputs": [],
      "execution_count": null
    },
    {
      "cell_type": "code",
      "source": [
        "print (classification_report(y_test,xgb_pred))"
      ],
      "metadata": {
        "trusted": true,
        "_uuid": "edf66e82303f2e60918194ce11a35803472270a9",
        "collapsed": true,
        "jupyter": {
          "outputs_hidden": true
        },
        "id": "XRIK9pwfp2ff"
      },
      "outputs": [],
      "execution_count": null
    },
    {
      "cell_type": "code",
      "source": [
        "print(accuracy_score(y_test,xgb_pred))"
      ],
      "metadata": {
        "trusted": true,
        "_uuid": "9491979c70c8618441046689a605610630f573f9",
        "collapsed": true,
        "jupyter": {
          "outputs_hidden": true
        },
        "id": "rfILiFmvp2fg"
      },
      "outputs": [],
      "execution_count": null
    },
    {
      "cell_type": "code",
      "source": [
        "plot_importance(xgb)"
      ],
      "metadata": {
        "trusted": true,
        "_uuid": "5a7b23275ce9f93533dd396bf61053076e2b8ef1",
        "collapsed": true,
        "jupyter": {
          "outputs_hidden": true
        },
        "id": "CjhiT4Ctp2fh"
      },
      "outputs": [],
      "execution_count": null
    },
    {
      "cell_type": "markdown",
      "source": [
        "<b>Stay With Ours on this project.</b>\n",
        "\n",
        "This Kernel is<b> Version 2.5</b>\n",
        "> <p>Thanks EveryOne.</p>\n",
        " <p>**Do analysis and stay love Data Science.**</p>\n",
        "\n",
        "** Comming Soon...........**"
      ],
      "metadata": {
        "_uuid": "fcd3a1946987268dc043726bb05990b3febca83c",
        "id": "dhYXFpqUp2fi"
      }
    }
  ]
}